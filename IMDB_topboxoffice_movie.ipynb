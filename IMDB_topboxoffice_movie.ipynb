{
 "cells": [
  {
   "cell_type": "code",
   "execution_count": 1,
   "id": "9050f824",
   "metadata": {},
   "outputs": [],
   "source": [
    "from bs4 import BeautifulSoup\n",
    "from requests import get "
   ]
  },
  {
   "cell_type": "code",
   "execution_count": 2,
   "id": "d190e5b6",
   "metadata": {},
   "outputs": [],
   "source": [
    "url = \"https://www.imdb.com/chart/boxoffice/?ref_=nv_ch_cht\""
   ]
  },
  {
   "cell_type": "code",
   "execution_count": 3,
   "id": "3fe01b2b",
   "metadata": {},
   "outputs": [],
   "source": [
    "A = get(url).content"
   ]
  },
  {
   "cell_type": "code",
   "execution_count": 4,
   "id": "b8d10067",
   "metadata": {},
   "outputs": [],
   "source": [
    "soup = BeautifulSoup(A,\"html.parser\")"
   ]
  },
  {
   "cell_type": "code",
   "execution_count": 5,
   "id": "1ec83227",
   "metadata": {},
   "outputs": [],
   "source": [
    "from re import sub\n",
    "title = []\n",
    "for i in soup.find_all(\"td\",class_=[\"titleColumn\"]):\n",
    "    i = i.text\n",
    "    i = sub(\"[^0-9a-zA-Z .]\",\"\",i)\n",
    "    title.append(i)"
   ]
  },
  {
   "cell_type": "code",
   "execution_count": 6,
   "id": "57de7bee",
   "metadata": {},
   "outputs": [
    {
     "data": {
      "text/plain": [
       "['Doctor Strange in the Multiverse of Madness',\n",
       " 'The Bad Guys',\n",
       " 'Sonic the Hedgehog 2',\n",
       " 'Fantastic Beasts The Secrets of Dumbledore',\n",
       " 'Everything Everywhere All at Once',\n",
       " 'The Northman',\n",
       " 'The Lost City',\n",
       " 'The Unbearable Weight of Massive Talent',\n",
       " 'Memory',\n",
       " 'Father Stu']"
      ]
     },
     "execution_count": 6,
     "metadata": {},
     "output_type": "execute_result"
    }
   ],
   "source": [
    "title"
   ]
  },
  {
   "cell_type": "code",
   "execution_count": 7,
   "id": "7bf04b58",
   "metadata": {},
   "outputs": [],
   "source": [
    "gross = []\n",
    "for i in soup.find_all(\"span\",class_=[\"secondaryInfo\"]):\n",
    "    i = i.text\n",
    "    i = sub(\"[^0-9a-zA-Z .]\",\"\",i)\n",
    "    gross.append(i)"
   ]
  },
  {
   "cell_type": "code",
   "execution_count": 8,
   "id": "e1438bac",
   "metadata": {},
   "outputs": [
    {
     "data": {
      "text/plain": [
       "['187.4M',\n",
       " '57.4M',\n",
       " '169.7M',\n",
       " '86.3M',\n",
       " '41.8M',\n",
       " '28.1M',\n",
       " '94.7M',\n",
       " '16.4M',\n",
       " '5.7M',\n",
       " '19.3M']"
      ]
     },
     "execution_count": 8,
     "metadata": {},
     "output_type": "execute_result"
    }
   ],
   "source": [
    "gross"
   ]
  },
  {
   "cell_type": "code",
   "execution_count": 9,
   "id": "0e48e037",
   "metadata": {},
   "outputs": [],
   "source": [
    "weeks = []\n",
    "for i in soup.find_all(\"td\",class_=[\"weeksColumn\"]):\n",
    "    i = i.text\n",
    "    i = sub(\"[^0-9a-zA-Z .]\",\"\",i)\n",
    "    weeks.append(i)"
   ]
  },
  {
   "cell_type": "code",
   "execution_count": 10,
   "id": "9bc02f64",
   "metadata": {},
   "outputs": [
    {
     "data": {
      "text/plain": [
       "['1', '3', '5', '4', '7', '3', '7', '3', '2', '4']"
      ]
     },
     "execution_count": 10,
     "metadata": {},
     "output_type": "execute_result"
    }
   ],
   "source": [
    "weeks"
   ]
  },
  {
   "cell_type": "code",
   "execution_count": 11,
   "id": "46597dfd",
   "metadata": {},
   "outputs": [],
   "source": [
    "rating = []\n",
    "for i in soup.find_all(\"td\",class_=[\"ratingColumn\"]):\n",
    "    i = i.text\n",
    "    i = sub(\"[^0-9a-zA-Z .]\",\"\",i)\n",
    "    rating.append(i)"
   ]
  },
  {
   "cell_type": "code",
   "execution_count": 12,
   "id": "f45de69b",
   "metadata": {},
   "outputs": [],
   "source": [
    "final_weekend = []\n",
    "raw_weekend = []\n",
    "for i in soup.find_all(\"td\",class_=[\"ratingColumn\"][0]):\n",
    "    i = i.text\n",
    "    i = sub(\"[^0-9a-zA-Z.]\",\"\",i)\n",
    "    raw_weekend.append(i)\n",
    "    \n",
    "for i in range(0,20,1):\n",
    "    if i%2 == 0:\n",
    "        final_weekend.append(raw_weekend[i])"
   ]
  },
  {
   "cell_type": "code",
   "execution_count": 13,
   "id": "fe721ecd",
   "metadata": {},
   "outputs": [
    {
     "data": {
      "text/plain": [
       "['187.4M',\n",
       " '9.6M',\n",
       " '6.0M',\n",
       " '4.3M',\n",
       " '3.5M',\n",
       " '2.9M',\n",
       " '2.8M',\n",
       " '1.6M',\n",
       " '1.4M',\n",
       " '875K']"
      ]
     },
     "execution_count": 13,
     "metadata": {},
     "output_type": "execute_result"
    }
   ],
   "source": [
    "final_weekend"
   ]
  },
  {
   "cell_type": "code",
   "execution_count": 14,
   "id": "65b1e3ef",
   "metadata": {},
   "outputs": [],
   "source": [
    "import pandas as pd\n",
    "A = pd.DataFrame([title,final_weekend,gross,weeks]).T\n",
    "A.columns = [\"Movie Title\",\"Weekend\",\"Gross\",\"Weeks\"]"
   ]
  },
  {
   "cell_type": "code",
   "execution_count": 15,
   "id": "20401a1b",
   "metadata": {},
   "outputs": [
    {
     "data": {
      "text/html": [
       "<div>\n",
       "<style scoped>\n",
       "    .dataframe tbody tr th:only-of-type {\n",
       "        vertical-align: middle;\n",
       "    }\n",
       "\n",
       "    .dataframe tbody tr th {\n",
       "        vertical-align: top;\n",
       "    }\n",
       "\n",
       "    .dataframe thead th {\n",
       "        text-align: right;\n",
       "    }\n",
       "</style>\n",
       "<table border=\"1\" class=\"dataframe\">\n",
       "  <thead>\n",
       "    <tr style=\"text-align: right;\">\n",
       "      <th></th>\n",
       "      <th>Movie Title</th>\n",
       "      <th>Weekend</th>\n",
       "      <th>Gross</th>\n",
       "      <th>Weeks</th>\n",
       "    </tr>\n",
       "  </thead>\n",
       "  <tbody>\n",
       "    <tr>\n",
       "      <th>0</th>\n",
       "      <td>Doctor Strange in the Multiverse of Madness</td>\n",
       "      <td>187.4M</td>\n",
       "      <td>187.4M</td>\n",
       "      <td>1</td>\n",
       "    </tr>\n",
       "    <tr>\n",
       "      <th>1</th>\n",
       "      <td>The Bad Guys</td>\n",
       "      <td>9.6M</td>\n",
       "      <td>57.4M</td>\n",
       "      <td>3</td>\n",
       "    </tr>\n",
       "    <tr>\n",
       "      <th>2</th>\n",
       "      <td>Sonic the Hedgehog 2</td>\n",
       "      <td>6.0M</td>\n",
       "      <td>169.7M</td>\n",
       "      <td>5</td>\n",
       "    </tr>\n",
       "    <tr>\n",
       "      <th>3</th>\n",
       "      <td>Fantastic Beasts The Secrets of Dumbledore</td>\n",
       "      <td>4.3M</td>\n",
       "      <td>86.3M</td>\n",
       "      <td>4</td>\n",
       "    </tr>\n",
       "    <tr>\n",
       "      <th>4</th>\n",
       "      <td>Everything Everywhere All at Once</td>\n",
       "      <td>3.5M</td>\n",
       "      <td>41.8M</td>\n",
       "      <td>7</td>\n",
       "    </tr>\n",
       "    <tr>\n",
       "      <th>5</th>\n",
       "      <td>The Northman</td>\n",
       "      <td>2.9M</td>\n",
       "      <td>28.1M</td>\n",
       "      <td>3</td>\n",
       "    </tr>\n",
       "    <tr>\n",
       "      <th>6</th>\n",
       "      <td>The Lost City</td>\n",
       "      <td>2.8M</td>\n",
       "      <td>94.7M</td>\n",
       "      <td>7</td>\n",
       "    </tr>\n",
       "    <tr>\n",
       "      <th>7</th>\n",
       "      <td>The Unbearable Weight of Massive Talent</td>\n",
       "      <td>1.6M</td>\n",
       "      <td>16.4M</td>\n",
       "      <td>3</td>\n",
       "    </tr>\n",
       "    <tr>\n",
       "      <th>8</th>\n",
       "      <td>Memory</td>\n",
       "      <td>1.4M</td>\n",
       "      <td>5.7M</td>\n",
       "      <td>2</td>\n",
       "    </tr>\n",
       "    <tr>\n",
       "      <th>9</th>\n",
       "      <td>Father Stu</td>\n",
       "      <td>875K</td>\n",
       "      <td>19.3M</td>\n",
       "      <td>4</td>\n",
       "    </tr>\n",
       "  </tbody>\n",
       "</table>\n",
       "</div>"
      ],
      "text/plain": [
       "                                   Movie Title Weekend   Gross Weeks\n",
       "0  Doctor Strange in the Multiverse of Madness  187.4M  187.4M     1\n",
       "1                                 The Bad Guys    9.6M   57.4M     3\n",
       "2                         Sonic the Hedgehog 2    6.0M  169.7M     5\n",
       "3   Fantastic Beasts The Secrets of Dumbledore    4.3M   86.3M     4\n",
       "4            Everything Everywhere All at Once    3.5M   41.8M     7\n",
       "5                                 The Northman    2.9M   28.1M     3\n",
       "6                                The Lost City    2.8M   94.7M     7\n",
       "7      The Unbearable Weight of Massive Talent    1.6M   16.4M     3\n",
       "8                                       Memory    1.4M    5.7M     2\n",
       "9                                   Father Stu    875K   19.3M     4"
      ]
     },
     "execution_count": 15,
     "metadata": {},
     "output_type": "execute_result"
    }
   ],
   "source": [
    "A"
   ]
  },
  {
   "cell_type": "code",
   "execution_count": 16,
   "id": "df805819",
   "metadata": {},
   "outputs": [],
   "source": [
    "w1 = []\n",
    "for i in A[\"Weekend\"]:\n",
    "    \n",
    "    if i.endswith(\"K\") == True:\n",
    "        a = i.replace(\"K\",\"\")\n",
    "        a = float(a)\n",
    "        a = a * 1000\n",
    "        w1.append(a)\n",
    "        \n",
    "    else:\n",
    "        b = i.replace(\"M\",\"\")\n",
    "        b = float(b)\n",
    "        b = b * 1000000\n",
    "        w1.append(b)\n"
   ]
  },
  {
   "cell_type": "code",
   "execution_count": 17,
   "id": "cebe478b",
   "metadata": {},
   "outputs": [
    {
     "data": {
      "text/plain": [
       "[187400000.0,\n",
       " 9600000.0,\n",
       " 6000000.0,\n",
       " 4300000.0,\n",
       " 3500000.0,\n",
       " 2900000.0,\n",
       " 2800000.0,\n",
       " 1600000.0,\n",
       " 1400000.0,\n",
       " 875000.0]"
      ]
     },
     "execution_count": 17,
     "metadata": {},
     "output_type": "execute_result"
    }
   ],
   "source": [
    "w1"
   ]
  },
  {
   "cell_type": "code",
   "execution_count": 18,
   "id": "1420630c",
   "metadata": {},
   "outputs": [],
   "source": [
    "A[\"Weekend\"] = w1"
   ]
  },
  {
   "cell_type": "code",
   "execution_count": 19,
   "id": "5e90f3ee",
   "metadata": {},
   "outputs": [],
   "source": [
    "g = []\n",
    "for i in A[\"Gross\"]:\n",
    "    \n",
    "    if i.endswith(\"K\") == True:\n",
    "        a = i.replace(\"K\",\"\")\n",
    "        a = float(a)\n",
    "        a = a * 1000\n",
    "        g.append(a)\n",
    "        \n",
    "    else:\n",
    "        b = i.replace(\"M\",\"\")\n",
    "        b = float(b)\n",
    "        b = b * 1000000\n",
    "        g.append(b)"
   ]
  },
  {
   "cell_type": "code",
   "execution_count": 20,
   "id": "7317a5aa",
   "metadata": {},
   "outputs": [],
   "source": [
    "A[\"Gross\"] = g"
   ]
  },
  {
   "cell_type": "code",
   "execution_count": 21,
   "id": "7737abd0",
   "metadata": {},
   "outputs": [
    {
     "data": {
      "text/html": [
       "<div>\n",
       "<style scoped>\n",
       "    .dataframe tbody tr th:only-of-type {\n",
       "        vertical-align: middle;\n",
       "    }\n",
       "\n",
       "    .dataframe tbody tr th {\n",
       "        vertical-align: top;\n",
       "    }\n",
       "\n",
       "    .dataframe thead th {\n",
       "        text-align: right;\n",
       "    }\n",
       "</style>\n",
       "<table border=\"1\" class=\"dataframe\">\n",
       "  <thead>\n",
       "    <tr style=\"text-align: right;\">\n",
       "      <th></th>\n",
       "      <th>Movie Title</th>\n",
       "      <th>Weekend</th>\n",
       "      <th>Gross</th>\n",
       "      <th>Weeks</th>\n",
       "    </tr>\n",
       "  </thead>\n",
       "  <tbody>\n",
       "    <tr>\n",
       "      <th>0</th>\n",
       "      <td>Doctor Strange in the Multiverse of Madness</td>\n",
       "      <td>187400000.0</td>\n",
       "      <td>187400000.0</td>\n",
       "      <td>1</td>\n",
       "    </tr>\n",
       "    <tr>\n",
       "      <th>1</th>\n",
       "      <td>The Bad Guys</td>\n",
       "      <td>9600000.0</td>\n",
       "      <td>57400000.0</td>\n",
       "      <td>3</td>\n",
       "    </tr>\n",
       "    <tr>\n",
       "      <th>2</th>\n",
       "      <td>Sonic the Hedgehog 2</td>\n",
       "      <td>6000000.0</td>\n",
       "      <td>169700000.0</td>\n",
       "      <td>5</td>\n",
       "    </tr>\n",
       "    <tr>\n",
       "      <th>3</th>\n",
       "      <td>Fantastic Beasts The Secrets of Dumbledore</td>\n",
       "      <td>4300000.0</td>\n",
       "      <td>86300000.0</td>\n",
       "      <td>4</td>\n",
       "    </tr>\n",
       "    <tr>\n",
       "      <th>4</th>\n",
       "      <td>Everything Everywhere All at Once</td>\n",
       "      <td>3500000.0</td>\n",
       "      <td>41800000.0</td>\n",
       "      <td>7</td>\n",
       "    </tr>\n",
       "    <tr>\n",
       "      <th>5</th>\n",
       "      <td>The Northman</td>\n",
       "      <td>2900000.0</td>\n",
       "      <td>28100000.0</td>\n",
       "      <td>3</td>\n",
       "    </tr>\n",
       "    <tr>\n",
       "      <th>6</th>\n",
       "      <td>The Lost City</td>\n",
       "      <td>2800000.0</td>\n",
       "      <td>94700000.0</td>\n",
       "      <td>7</td>\n",
       "    </tr>\n",
       "    <tr>\n",
       "      <th>7</th>\n",
       "      <td>The Unbearable Weight of Massive Talent</td>\n",
       "      <td>1600000.0</td>\n",
       "      <td>16400000.0</td>\n",
       "      <td>3</td>\n",
       "    </tr>\n",
       "    <tr>\n",
       "      <th>8</th>\n",
       "      <td>Memory</td>\n",
       "      <td>1400000.0</td>\n",
       "      <td>5700000.0</td>\n",
       "      <td>2</td>\n",
       "    </tr>\n",
       "    <tr>\n",
       "      <th>9</th>\n",
       "      <td>Father Stu</td>\n",
       "      <td>875000.0</td>\n",
       "      <td>19300000.0</td>\n",
       "      <td>4</td>\n",
       "    </tr>\n",
       "  </tbody>\n",
       "</table>\n",
       "</div>"
      ],
      "text/plain": [
       "                                   Movie Title      Weekend        Gross Weeks\n",
       "0  Doctor Strange in the Multiverse of Madness  187400000.0  187400000.0     1\n",
       "1                                 The Bad Guys    9600000.0   57400000.0     3\n",
       "2                         Sonic the Hedgehog 2    6000000.0  169700000.0     5\n",
       "3   Fantastic Beasts The Secrets of Dumbledore    4300000.0   86300000.0     4\n",
       "4            Everything Everywhere All at Once    3500000.0   41800000.0     7\n",
       "5                                 The Northman    2900000.0   28100000.0     3\n",
       "6                                The Lost City    2800000.0   94700000.0     7\n",
       "7      The Unbearable Weight of Massive Talent    1600000.0   16400000.0     3\n",
       "8                                       Memory    1400000.0    5700000.0     2\n",
       "9                                   Father Stu     875000.0   19300000.0     4"
      ]
     },
     "execution_count": 21,
     "metadata": {},
     "output_type": "execute_result"
    }
   ],
   "source": [
    "A"
   ]
  },
  {
   "cell_type": "code",
   "execution_count": 22,
   "id": "f9c5e05e",
   "metadata": {},
   "outputs": [],
   "source": [
    "url1 = \"https://www.xe.com/currencyconverter/convert/?Amount=1&From=USD&To=INR\""
   ]
  },
  {
   "cell_type": "code",
   "execution_count": 23,
   "id": "02f51247",
   "metadata": {},
   "outputs": [],
   "source": [
    "r = get(url1).content "
   ]
  },
  {
   "cell_type": "code",
   "execution_count": 24,
   "id": "f2ec1394",
   "metadata": {},
   "outputs": [],
   "source": [
    "soup1 = BeautifulSoup(r,\"html.parser\")"
   ]
  },
  {
   "cell_type": "code",
   "execution_count": 25,
   "id": "89507036",
   "metadata": {},
   "outputs": [],
   "source": [
    "a = []\n",
    "for i in soup1.find_all(\"p\",class_=\"result__BigRate-sc-1bsijpp-1 iGrAod\"): \n",
    "    i = i.text\n",
    "    i = sub(\"[^0-9.]\",\"\",i)\n",
    "    a.append(i)"
   ]
  },
  {
   "cell_type": "code",
   "execution_count": 26,
   "id": "ac85a0c0",
   "metadata": {},
   "outputs": [],
   "source": [
    "inr_val = float(a[0])"
   ]
  },
  {
   "cell_type": "code",
   "execution_count": 27,
   "id": "81304079",
   "metadata": {},
   "outputs": [
    {
     "data": {
      "text/html": [
       "<div>\n",
       "<style scoped>\n",
       "    .dataframe tbody tr th:only-of-type {\n",
       "        vertical-align: middle;\n",
       "    }\n",
       "\n",
       "    .dataframe tbody tr th {\n",
       "        vertical-align: top;\n",
       "    }\n",
       "\n",
       "    .dataframe thead th {\n",
       "        text-align: right;\n",
       "    }\n",
       "</style>\n",
       "<table border=\"1\" class=\"dataframe\">\n",
       "  <thead>\n",
       "    <tr style=\"text-align: right;\">\n",
       "      <th></th>\n",
       "      <th>Movie Title</th>\n",
       "      <th>Weekend</th>\n",
       "      <th>Gross</th>\n",
       "      <th>Weeks</th>\n",
       "    </tr>\n",
       "  </thead>\n",
       "  <tbody>\n",
       "    <tr>\n",
       "      <th>0</th>\n",
       "      <td>Doctor Strange in the Multiverse of Madness</td>\n",
       "      <td>187400000.0</td>\n",
       "      <td>187400000.0</td>\n",
       "      <td>1</td>\n",
       "    </tr>\n",
       "    <tr>\n",
       "      <th>1</th>\n",
       "      <td>The Bad Guys</td>\n",
       "      <td>9600000.0</td>\n",
       "      <td>57400000.0</td>\n",
       "      <td>3</td>\n",
       "    </tr>\n",
       "    <tr>\n",
       "      <th>2</th>\n",
       "      <td>Sonic the Hedgehog 2</td>\n",
       "      <td>6000000.0</td>\n",
       "      <td>169700000.0</td>\n",
       "      <td>5</td>\n",
       "    </tr>\n",
       "    <tr>\n",
       "      <th>3</th>\n",
       "      <td>Fantastic Beasts The Secrets of Dumbledore</td>\n",
       "      <td>4300000.0</td>\n",
       "      <td>86300000.0</td>\n",
       "      <td>4</td>\n",
       "    </tr>\n",
       "    <tr>\n",
       "      <th>4</th>\n",
       "      <td>Everything Everywhere All at Once</td>\n",
       "      <td>3500000.0</td>\n",
       "      <td>41800000.0</td>\n",
       "      <td>7</td>\n",
       "    </tr>\n",
       "    <tr>\n",
       "      <th>5</th>\n",
       "      <td>The Northman</td>\n",
       "      <td>2900000.0</td>\n",
       "      <td>28100000.0</td>\n",
       "      <td>3</td>\n",
       "    </tr>\n",
       "    <tr>\n",
       "      <th>6</th>\n",
       "      <td>The Lost City</td>\n",
       "      <td>2800000.0</td>\n",
       "      <td>94700000.0</td>\n",
       "      <td>7</td>\n",
       "    </tr>\n",
       "    <tr>\n",
       "      <th>7</th>\n",
       "      <td>The Unbearable Weight of Massive Talent</td>\n",
       "      <td>1600000.0</td>\n",
       "      <td>16400000.0</td>\n",
       "      <td>3</td>\n",
       "    </tr>\n",
       "    <tr>\n",
       "      <th>8</th>\n",
       "      <td>Memory</td>\n",
       "      <td>1400000.0</td>\n",
       "      <td>5700000.0</td>\n",
       "      <td>2</td>\n",
       "    </tr>\n",
       "    <tr>\n",
       "      <th>9</th>\n",
       "      <td>Father Stu</td>\n",
       "      <td>875000.0</td>\n",
       "      <td>19300000.0</td>\n",
       "      <td>4</td>\n",
       "    </tr>\n",
       "  </tbody>\n",
       "</table>\n",
       "</div>"
      ],
      "text/plain": [
       "                                   Movie Title      Weekend        Gross Weeks\n",
       "0  Doctor Strange in the Multiverse of Madness  187400000.0  187400000.0     1\n",
       "1                                 The Bad Guys    9600000.0   57400000.0     3\n",
       "2                         Sonic the Hedgehog 2    6000000.0  169700000.0     5\n",
       "3   Fantastic Beasts The Secrets of Dumbledore    4300000.0   86300000.0     4\n",
       "4            Everything Everywhere All at Once    3500000.0   41800000.0     7\n",
       "5                                 The Northman    2900000.0   28100000.0     3\n",
       "6                                The Lost City    2800000.0   94700000.0     7\n",
       "7      The Unbearable Weight of Massive Talent    1600000.0   16400000.0     3\n",
       "8                                       Memory    1400000.0    5700000.0     2\n",
       "9                                   Father Stu     875000.0   19300000.0     4"
      ]
     },
     "execution_count": 27,
     "metadata": {},
     "output_type": "execute_result"
    }
   ],
   "source": [
    "A"
   ]
  },
  {
   "cell_type": "code",
   "execution_count": 28,
   "id": "305bf051",
   "metadata": {},
   "outputs": [],
   "source": [
    "inr_weekend = []\n",
    "for i in A.Weekend:\n",
    "    w = round(i * inr_val,2)\n",
    "    inr_weekend.append(w)"
   ]
  },
  {
   "cell_type": "code",
   "execution_count": 29,
   "id": "bce66ff4",
   "metadata": {},
   "outputs": [],
   "source": [
    "A[\"Weekend (INR)\"] = inr_weekend"
   ]
  },
  {
   "cell_type": "code",
   "execution_count": 30,
   "id": "d0bbb145",
   "metadata": {},
   "outputs": [],
   "source": [
    "inr_gross = []\n",
    "for i in A.Gross:\n",
    "    ig = round(i * inr_val,2)\n",
    "    inr_gross.append(ig)"
   ]
  },
  {
   "cell_type": "code",
   "execution_count": 31,
   "id": "7e7d55f9",
   "metadata": {},
   "outputs": [],
   "source": [
    "A[\"Gross (INR)\"] = inr_gross"
   ]
  },
  {
   "cell_type": "code",
   "execution_count": 32,
   "id": "e437e0ec",
   "metadata": {},
   "outputs": [
    {
     "data": {
      "text/html": [
       "<div>\n",
       "<style scoped>\n",
       "    .dataframe tbody tr th:only-of-type {\n",
       "        vertical-align: middle;\n",
       "    }\n",
       "\n",
       "    .dataframe tbody tr th {\n",
       "        vertical-align: top;\n",
       "    }\n",
       "\n",
       "    .dataframe thead th {\n",
       "        text-align: right;\n",
       "    }\n",
       "</style>\n",
       "<table border=\"1\" class=\"dataframe\">\n",
       "  <thead>\n",
       "    <tr style=\"text-align: right;\">\n",
       "      <th></th>\n",
       "      <th>Movie Title</th>\n",
       "      <th>Weekend</th>\n",
       "      <th>Gross</th>\n",
       "      <th>Weeks</th>\n",
       "      <th>Weekend (INR)</th>\n",
       "      <th>Gross (INR)</th>\n",
       "    </tr>\n",
       "  </thead>\n",
       "  <tbody>\n",
       "    <tr>\n",
       "      <th>0</th>\n",
       "      <td>Doctor Strange in the Multiverse of Madness</td>\n",
       "      <td>187400000.0</td>\n",
       "      <td>187400000.0</td>\n",
       "      <td>1</td>\n",
       "      <td>1.453566e+10</td>\n",
       "      <td>1.453566e+10</td>\n",
       "    </tr>\n",
       "    <tr>\n",
       "      <th>1</th>\n",
       "      <td>The Bad Guys</td>\n",
       "      <td>9600000.0</td>\n",
       "      <td>57400000.0</td>\n",
       "      <td>3</td>\n",
       "      <td>7.446231e+08</td>\n",
       "      <td>4.452226e+09</td>\n",
       "    </tr>\n",
       "    <tr>\n",
       "      <th>2</th>\n",
       "      <td>Sonic the Hedgehog 2</td>\n",
       "      <td>6000000.0</td>\n",
       "      <td>169700000.0</td>\n",
       "      <td>5</td>\n",
       "      <td>4.653894e+08</td>\n",
       "      <td>1.316276e+10</td>\n",
       "    </tr>\n",
       "    <tr>\n",
       "      <th>3</th>\n",
       "      <td>Fantastic Beasts The Secrets of Dumbledore</td>\n",
       "      <td>4300000.0</td>\n",
       "      <td>86300000.0</td>\n",
       "      <td>4</td>\n",
       "      <td>3.335291e+08</td>\n",
       "      <td>6.693851e+09</td>\n",
       "    </tr>\n",
       "    <tr>\n",
       "      <th>4</th>\n",
       "      <td>Everything Everywhere All at Once</td>\n",
       "      <td>3500000.0</td>\n",
       "      <td>41800000.0</td>\n",
       "      <td>7</td>\n",
       "      <td>2.714772e+08</td>\n",
       "      <td>3.242213e+09</td>\n",
       "    </tr>\n",
       "    <tr>\n",
       "      <th>5</th>\n",
       "      <td>The Northman</td>\n",
       "      <td>2900000.0</td>\n",
       "      <td>28100000.0</td>\n",
       "      <td>3</td>\n",
       "      <td>2.249382e+08</td>\n",
       "      <td>2.179574e+09</td>\n",
       "    </tr>\n",
       "    <tr>\n",
       "      <th>6</th>\n",
       "      <td>The Lost City</td>\n",
       "      <td>2800000.0</td>\n",
       "      <td>94700000.0</td>\n",
       "      <td>7</td>\n",
       "      <td>2.171817e+08</td>\n",
       "      <td>7.345397e+09</td>\n",
       "    </tr>\n",
       "    <tr>\n",
       "      <th>7</th>\n",
       "      <td>The Unbearable Weight of Massive Talent</td>\n",
       "      <td>1600000.0</td>\n",
       "      <td>16400000.0</td>\n",
       "      <td>3</td>\n",
       "      <td>1.241039e+08</td>\n",
       "      <td>1.272064e+09</td>\n",
       "    </tr>\n",
       "    <tr>\n",
       "      <th>8</th>\n",
       "      <td>Memory</td>\n",
       "      <td>1400000.0</td>\n",
       "      <td>5700000.0</td>\n",
       "      <td>2</td>\n",
       "      <td>1.085909e+08</td>\n",
       "      <td>4.421200e+08</td>\n",
       "    </tr>\n",
       "    <tr>\n",
       "      <th>9</th>\n",
       "      <td>Father Stu</td>\n",
       "      <td>875000.0</td>\n",
       "      <td>19300000.0</td>\n",
       "      <td>4</td>\n",
       "      <td>6.786929e+07</td>\n",
       "      <td>1.497003e+09</td>\n",
       "    </tr>\n",
       "  </tbody>\n",
       "</table>\n",
       "</div>"
      ],
      "text/plain": [
       "                                   Movie Title      Weekend        Gross  \\\n",
       "0  Doctor Strange in the Multiverse of Madness  187400000.0  187400000.0   \n",
       "1                                 The Bad Guys    9600000.0   57400000.0   \n",
       "2                         Sonic the Hedgehog 2    6000000.0  169700000.0   \n",
       "3   Fantastic Beasts The Secrets of Dumbledore    4300000.0   86300000.0   \n",
       "4            Everything Everywhere All at Once    3500000.0   41800000.0   \n",
       "5                                 The Northman    2900000.0   28100000.0   \n",
       "6                                The Lost City    2800000.0   94700000.0   \n",
       "7      The Unbearable Weight of Massive Talent    1600000.0   16400000.0   \n",
       "8                                       Memory    1400000.0    5700000.0   \n",
       "9                                   Father Stu     875000.0   19300000.0   \n",
       "\n",
       "  Weeks  Weekend (INR)   Gross (INR)  \n",
       "0     1   1.453566e+10  1.453566e+10  \n",
       "1     3   7.446231e+08  4.452226e+09  \n",
       "2     5   4.653894e+08  1.316276e+10  \n",
       "3     4   3.335291e+08  6.693851e+09  \n",
       "4     7   2.714772e+08  3.242213e+09  \n",
       "5     3   2.249382e+08  2.179574e+09  \n",
       "6     7   2.171817e+08  7.345397e+09  \n",
       "7     3   1.241039e+08  1.272064e+09  \n",
       "8     2   1.085909e+08  4.421200e+08  \n",
       "9     4   6.786929e+07  1.497003e+09  "
      ]
     },
     "execution_count": 32,
     "metadata": {},
     "output_type": "execute_result"
    }
   ],
   "source": [
    "A"
   ]
  },
  {
   "cell_type": "code",
   "execution_count": null,
   "id": "8bdc9aba",
   "metadata": {},
   "outputs": [],
   "source": []
  },
  {
   "cell_type": "code",
   "execution_count": null,
   "id": "2b299ce3",
   "metadata": {},
   "outputs": [],
   "source": []
  }
 ],
 "metadata": {
  "kernelspec": {
   "display_name": "Python 3",
   "language": "python",
   "name": "python3"
  },
  "language_info": {
   "codemirror_mode": {
    "name": "ipython",
    "version": 3
   },
   "file_extension": ".py",
   "mimetype": "text/x-python",
   "name": "python",
   "nbconvert_exporter": "python",
   "pygments_lexer": "ipython3",
   "version": "3.8.8"
  }
 },
 "nbformat": 4,
 "nbformat_minor": 5
}
